{
 "cells": [
  {
   "cell_type": "markdown",
   "metadata": {},
   "source": [
    "SIVAKUMAR PALANIRAJAN"
   ]
  },
  {
   "cell_type": "markdown",
   "metadata": {},
   "source": [
    "1. Write a Python program to Extract Unique values dictionary values?"
   ]
  },
  {
   "cell_type": "code",
   "execution_count": 3,
   "metadata": {},
   "outputs": [
    {
     "name": "stdout",
     "output_type": "stream",
     "text": [
      "The unique values are:\n",
      "3\n"
     ]
    }
   ],
   "source": [
    "a={\"ab\":2,\"cd\":2,\"ef\":3}\n",
    "b=list(a.values())\n",
    "print('The unique values are:')\n",
    "for i in b:\n",
    "    if (b.count(i)<=1):\n",
    "        print(i)\n",
    "    \n"
   ]
  },
  {
   "cell_type": "markdown",
   "metadata": {},
   "source": [
    "2. Write a Python program to find the sum of all items in a dictionary?"
   ]
  },
  {
   "cell_type": "code",
   "execution_count": 4,
   "metadata": {},
   "outputs": [
    {
     "name": "stdout",
     "output_type": "stream",
     "text": [
      "The values present in the dictionary are: dict_values([1, 2, 3])\n",
      "The sum of values:6\n"
     ]
    }
   ],
   "source": [
    "a={\"ab\":1,\"cd\":2,\"ef\":3}\n",
    "sum=0\n",
    "print(f\"The values present in the dictionary are: {a.values()}\")\n",
    "for i in a.values():\n",
    "    sum=sum+i\n",
    "print(f\"The sum of values:{sum}\")"
   ]
  },
  {
   "cell_type": "markdown",
   "metadata": {},
   "source": [
    "3. Write a Python program to Merging two Dictionaries?"
   ]
  },
  {
   "cell_type": "code",
   "execution_count": 12,
   "metadata": {},
   "outputs": [
    {
     "name": "stdout",
     "output_type": "stream",
     "text": [
      "Before merging:{'ab': 1, 'cd': 2, 'ef': 3} and {'gh': 4, 'ij': 5}\n",
      "After merging:{'gh': 4, 'ij': 5, 'ab': 1, 'cd': 2, 'ef': 3}\n"
     ]
    }
   ],
   "source": [
    "a={\"ab\":1,\"cd\":2,\"ef\":3}\n",
    "b={\"gh\":4,\"ij\":5}\n",
    "print(f\"Before merging:{a} and {b}\")\n",
    "b.update(a)\n",
    "print(f\"After merging:{b}\")"
   ]
  },
  {
   "cell_type": "markdown",
   "metadata": {},
   "source": [
    "4. Write a Python program to convert key-values list to flat dictionary?"
   ]
  },
  {
   "cell_type": "code",
   "execution_count": 23,
   "metadata": {},
   "outputs": [
    {
     "name": "stdout",
     "output_type": "stream",
     "text": [
      "The list:['ab', 1, 'cd', 2, 'ef', 3]\n",
      "The dictionary is:{'ab': 1, 'cd': 2, 'ef': 3}\n"
     ]
    }
   ],
   "source": [
    "a=[\"ab\",1,\"cd\",2,\"ef\",3]\n",
    "print(f\"The list:{a}\")\n",
    "dict1={}\n",
    "j=0\n",
    "for i in range(0,len(a),2):\n",
    "    dict1[a[i]]=a[i+1]\n",
    "print(f\"The dictionary is:{dict1}\")\n"
   ]
  },
  {
   "cell_type": "markdown",
   "metadata": {},
   "source": [
    "5. Write a Python program to insertion at the beginning in OrderedDict?"
   ]
  },
  {
   "cell_type": "code",
   "execution_count": 31,
   "metadata": {},
   "outputs": [
    {
     "name": "stdout",
     "output_type": "stream",
     "text": [
      "Original OrderedDict: OrderedDict([('a', 1), ('b', 2), ('c', 3)])\n",
      "After insertion at the beginning: OrderedDict([('z', 0), ('a', 1), ('b', 2), ('c', 3)])\n"
     ]
    }
   ],
   "source": [
    "from collections import OrderedDict\n",
    "\n",
    "def insert_at_beginning(od, key, value):\n",
    "    new_od = OrderedDict([(key, value)])\n",
    "    new_od.update(od)\n",
    "    return new_od\n",
    "\n",
    "od = OrderedDict([('a', 1), ('b', 2), ('c', 3)])\n",
    "print(\"Original OrderedDict:\", od)\n",
    "\n",
    "key = 'z'\n",
    "value = 0\n",
    "new_od = insert_at_beginning(od, key, value)\n",
    "print(\"After insertion at the beginning:\", new_od)\n"
   ]
  },
  {
   "cell_type": "markdown",
   "metadata": {},
   "source": [
    "6. Write a Python program to check order of character in string using OrderedDict()?"
   ]
  },
  {
   "cell_type": "code",
   "execution_count": 33,
   "metadata": {},
   "outputs": [
    {
     "name": "stdout",
     "output_type": "stream",
     "text": [
      "Does the string 'it is right there' contain the characters 'th' in order? True\n"
     ]
    }
   ],
   "source": [
    "from collections import OrderedDict\n",
    "\n",
    "def check_order(input_string, pattern):\n",
    "    ordered_dict = OrderedDict.fromkeys(input_string)\n",
    "\n",
    "    pattern_index = 0\n",
    "\n",
    "    for key in ordered_dict:\n",
    "        if key == pattern[pattern_index]:\n",
    "            pattern_index += 1\n",
    "\n",
    "        if pattern_index == len(pattern):\n",
    "            return True\n",
    "\n",
    "    return False\n",
    "\n",
    "input_string = \"it is right there\"\n",
    "pattern = \"th\"\n",
    "result = check_order(input_string, pattern)\n",
    "print(f\"Does the string '{input_string}' contain the characters '{pattern}' in order? {result}\")\n"
   ]
  },
  {
   "cell_type": "markdown",
   "metadata": {},
   "source": [
    "7. Write a Python program to sort Python Dictionaries by Key or Value?"
   ]
  },
  {
   "cell_type": "code",
   "execution_count": 41,
   "metadata": {},
   "outputs": [
    {
     "name": "stdout",
     "output_type": "stream",
     "text": [
      "Original dictionary:{3: 'ab', 5: 'cd', 2: 'ef'}\n",
      "New dictionary after sorting:{2: 'ef', 3: 'ab', 5: 'cd'}\n"
     ]
    }
   ],
   "source": [
    "a={3:\"ab\",5:\"cd\",2:\"ef\"}\n",
    "b=list(a.keys())\n",
    "b.sort()\n",
    "new_dict={i:a[i] for i in b}\n",
    "print(f\"Original dictionary:{a}\")\n",
    "print(f\"New dictionary after sorting:{new_dict}\")"
   ]
  }
 ],
 "metadata": {
  "kernelspec": {
   "display_name": "base",
   "language": "python",
   "name": "python3"
  },
  "language_info": {
   "codemirror_mode": {
    "name": "ipython",
    "version": 3
   },
   "file_extension": ".py",
   "mimetype": "text/x-python",
   "name": "python",
   "nbconvert_exporter": "python",
   "pygments_lexer": "ipython3",
   "version": "3.11.4"
  }
 },
 "nbformat": 4,
 "nbformat_minor": 2
}
