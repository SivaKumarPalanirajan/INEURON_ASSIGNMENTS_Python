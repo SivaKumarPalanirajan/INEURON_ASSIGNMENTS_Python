{
 "cells": [
  {
   "cell_type": "markdown",
   "metadata": {},
   "source": [
    "SIVAKUMAR PALANIRAJAN"
   ]
  },
  {
   "cell_type": "markdown",
   "metadata": {},
   "source": [
    "1. Write a Python Program to Add Two Matrices?"
   ]
  },
  {
   "cell_type": "code",
   "execution_count": 10,
   "metadata": {},
   "outputs": [
    {
     "name": "stdout",
     "output_type": "stream",
     "text": [
      "The first matrix:\n",
      "[[1. 3.]\n",
      " [1. 3.]]\n",
      "The second matrix:\n",
      "[[2. 4.]\n",
      " [2. 4.]]\n",
      "The sum of the matrices:\n",
      "3.0 7.0 \n",
      "3.0 7.0 \n"
     ]
    }
   ],
   "source": [
    "import numpy as np\n",
    "rows=int(input())\n",
    "columns=int(input())\n",
    "arr=np.array(np.zeros((rows,columns)))\n",
    "arr2=np.array(np.zeros((rows,columns)))\n",
    "for i in range(0,rows):\n",
    "    for j in range(0,columns):\n",
    "        arr[i][j]=int(input())\n",
    "        arr2[i][j]=int(input())\n",
    "print(\"The first matrix:\")\n",
    "print(arr)\n",
    "print(\"The second matrix:\")\n",
    "print(arr2)\n",
    "print(\"The sum of the matrices:\")\n",
    "for i in range(0,rows):\n",
    "    for j in range(0,columns):\n",
    "        print(arr[i][j]+arr2[i][j],end=\" \")\n",
    "    print()\n"
   ]
  },
  {
   "cell_type": "markdown",
   "metadata": {},
   "source": [
    "2. Write a Python Program to Multiply Two Matrices?"
   ]
  },
  {
   "cell_type": "code",
   "execution_count": 17,
   "metadata": {},
   "outputs": [
    {
     "name": "stdout",
     "output_type": "stream",
     "text": [
      "The first matrix:\n",
      "[[5, 2], [2, 9], [7, 2]]\n",
      "The second matrix:\n",
      "[[1, 4, 8, 0], [6, 0, 5, 0]]\n",
      "The result after multiplication:[[17, 20, 50, 0], [56, 8, 61, 0], [19, 28, 66, 0]]\n"
     ]
    }
   ],
   "source": [
    "arr = [[5, 2],\n",
    "    [2, 9],\n",
    "    [7, 2]]\n",
    " \n",
    "arr2 = [[1, 4, 8, 0],\n",
    "    [6, 0, 5, 0]]\n",
    "\n",
    "print(\"The first matrix:\")\n",
    "print(arr)\n",
    "print(\"The second matrix:\")\n",
    "print(arr2)\n",
    "\n",
    "result = [[sum(a * b for a, b in zip(A, B)) \n",
    "                        for B in zip(*arr2)]\n",
    "                                for A in arr]\n",
    "print(f\"The result after multiplication:{result}\")"
   ]
  },
  {
   "cell_type": "markdown",
   "metadata": {},
   "source": [
    "3. Write a Python Program to Transpose a Matrix?"
   ]
  },
  {
   "cell_type": "code",
   "execution_count": 22,
   "metadata": {},
   "outputs": [
    {
     "name": "stdout",
     "output_type": "stream",
     "text": [
      "Original matrix:\n",
      "1.0  2.0  \n",
      "3.0  4.0  \n",
      "Transpose is\n",
      "1.0  3.0  \n",
      "2.0  4.0  \n"
     ]
    }
   ],
   "source": [
    "def transpose(A,rows,columns): \n",
    "    for i in range(rows): \n",
    "        for j in range(i+1, columns): \n",
    "            A[i][j], A[j][i] = A[j][i], A[i][j] \n",
    "\n",
    "import numpy as np\n",
    "rows=int(input())\n",
    "columns=int(input())\n",
    "arr=np.array(np.zeros((rows,columns)))\n",
    "for i in range(0,rows):\n",
    "    for j in range(0,columns):\n",
    "        arr[i][j]=int(input())\n",
    "print(\"Original matrix:\")\n",
    "for i in range(rows): \n",
    "    for j in range(columns): \n",
    "        print(arr[i][j], \" \", end='') \n",
    "    print() \n",
    "transpose(arr,rows,columns) \n",
    "  \n",
    "print(\"Transpose is\") \n",
    "for i in range(rows): \n",
    "    for j in range(columns): \n",
    "        print(arr[i][j], \" \", end='') \n",
    "    print() "
   ]
  },
  {
   "cell_type": "markdown",
   "metadata": {},
   "source": [
    "4. Write a Python Program to Sort Words in Alphabetic Order?"
   ]
  },
  {
   "cell_type": "code",
   "execution_count": 23,
   "metadata": {},
   "outputs": [
    {
     "name": "stdout",
     "output_type": "stream",
     "text": [
      "Original order:\n",
      "Hello There Nice To Meet You\n",
      "Sorted order:\n",
      "Hello Meet Nice There To You\n"
     ]
    }
   ],
   "source": [
    "a=[\"Hello\",\"There\",\"Nice\",\"To\",\"Meet\",\"You\"]\n",
    "print(\"Original order:\")\n",
    "print(*a)\n",
    "a.sort()\n",
    "print(\"Sorted order:\")\n",
    "print(*a)"
   ]
  },
  {
   "cell_type": "markdown",
   "metadata": {},
   "source": [
    "5. Write a Python Program to Remove Punctuation From a String?"
   ]
  },
  {
   "cell_type": "code",
   "execution_count": 26,
   "metadata": {},
   "outputs": [
    {
     "name": "stdout",
     "output_type": "stream",
     "text": [
      "Original string:Hello there!What's your name.\n",
      "String after removing punctuation:Hello there What s your name \n"
     ]
    }
   ],
   "source": [
    "a=\"\"\"Hello there!What's your name.\"\"\"\n",
    "print(f\"Original string:{a}\")\n",
    "punc=[\"!\",\".\",\"?\",\"\"\"'\"\"\",\"(\",\")\",\":\",\";\",\",\",\"-\"]\n",
    "for i in punc:\n",
    "    a=a.replace(i,\" \")\n",
    "print(f\"String after removing punctuation:{a}\")\n"
   ]
  }
 ],
 "metadata": {
  "kernelspec": {
   "display_name": "base",
   "language": "python",
   "name": "python3"
  },
  "language_info": {
   "codemirror_mode": {
    "name": "ipython",
    "version": 3
   },
   "file_extension": ".py",
   "mimetype": "text/x-python",
   "name": "python",
   "nbconvert_exporter": "python",
   "pygments_lexer": "ipython3",
   "version": "3.11.4"
  }
 },
 "nbformat": 4,
 "nbformat_minor": 2
}
