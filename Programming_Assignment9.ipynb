{
 "cells": [
  {
   "cell_type": "markdown",
   "metadata": {},
   "source": [
    "SIVAKUMAR PALANIRAJAN"
   ]
  },
  {
   "cell_type": "markdown",
   "metadata": {},
   "source": [
    "1. Write a Python program to check if the given number is a Disarium Number?"
   ]
  },
  {
   "cell_type": "code",
   "execution_count": 20,
   "metadata": {},
   "outputs": [
    {
     "name": "stdout",
     "output_type": "stream",
     "text": [
      "89 is a disarium number\n"
     ]
    }
   ],
   "source": [
    "a=int(input())\n",
    "c=a\n",
    "b=str(a)\n",
    "n=0\n",
    "while a>0:\n",
    "    n=n+1\n",
    "    a=a//10\n",
    "sum=0\n",
    "for i in range(1,n+1):\n",
    "    sum=sum+int(b[i-1])**i\n",
    "if (sum==c):\n",
    "    print(f\"{c} is a disarium number\")\n",
    "else:\n",
    "    print(f\"{c} is not a disarium number\")"
   ]
  },
  {
   "cell_type": "markdown",
   "metadata": {},
   "source": [
    "2. Write a Python program to print all disarium numbers between 1 to 100?"
   ]
  },
  {
   "cell_type": "code",
   "execution_count": 10,
   "metadata": {},
   "outputs": [
    {
     "name": "stdout",
     "output_type": "stream",
     "text": [
      "The following are disarium numbers between 1 and 100:\n",
      "1\n",
      "2\n",
      "3\n",
      "4\n",
      "5\n",
      "6\n",
      "7\n",
      "8\n",
      "9\n",
      "89\n"
     ]
    }
   ],
   "source": [
    "print(\"The following are disarium numbers between 1 and 100:\")\n",
    "for a in range(1,101):    \n",
    "    c=a\n",
    "    b=str(a)\n",
    "    n=0\n",
    "    while a>0:\n",
    "        n=n+1\n",
    "        a=a//10\n",
    "    sum=0\n",
    "    for i in range(1,n+1):\n",
    "        sum=sum+int(b[i-1])**i\n",
    "    if (sum==c):\n",
    "        print(c)"
   ]
  },
  {
   "cell_type": "markdown",
   "metadata": {},
   "source": [
    "3. Write a Python program to check if the given number is Happy Number?"
   ]
  },
  {
   "cell_type": "code",
   "execution_count": 11,
   "metadata": {},
   "outputs": [
    {
     "name": "stdout",
     "output_type": "stream",
     "text": [
      "7 is a happy number\n"
     ]
    }
   ],
   "source": [
    "a=int(input())\n",
    "def sum_digits(b):\n",
    "    sum=0\n",
    "    while (b>0):\n",
    "        r=b%10\n",
    "        sum=sum+r*r\n",
    "        b=b//10\n",
    "    return sum\n",
    "def Happy(n):\n",
    "    s=set()\n",
    "    s.add(n)\n",
    "    while (True):\n",
    "\n",
    "        if (n == 1):\n",
    "            return True\n",
    "\n",
    "        n = sum_digits(n)\n",
    "\n",
    "        if n in s:\n",
    "            return False\n",
    "\n",
    "        s.add(n)\n",
    "\n",
    "    return False\n",
    "if (Happy(a)):\n",
    "    print(f'{a} is a happy number')\n",
    "else:\n",
    "    print(f'{a} is not a happy number')\n"
   ]
  },
  {
   "cell_type": "markdown",
   "metadata": {},
   "source": [
    "4. Write a Python program to print all happy numbers between 1 and 100?"
   ]
  },
  {
   "cell_type": "code",
   "execution_count": 9,
   "metadata": {},
   "outputs": [
    {
     "name": "stdout",
     "output_type": "stream",
     "text": [
      "The following are happy numbers between 0 and 100:\n",
      "1\n",
      "7\n",
      "10\n",
      "13\n",
      "19\n",
      "23\n",
      "28\n",
      "31\n",
      "32\n",
      "44\n",
      "49\n",
      "68\n",
      "70\n",
      "79\n",
      "82\n",
      "86\n",
      "91\n",
      "94\n",
      "97\n",
      "100\n"
     ]
    }
   ],
   "source": [
    "def sum_digits(b):\n",
    "    sum=0\n",
    "    while (b>0):\n",
    "        r=b%10\n",
    "        sum=sum+r*r\n",
    "        b=b//10\n",
    "    return sum\n",
    "def Happy(n):\n",
    "    s=set()\n",
    "    s.add(n)\n",
    "    while (True):\n",
    "\n",
    "        if (n == 1):\n",
    "            return True\n",
    "\n",
    "        n = sum_digits(n)\n",
    "\n",
    "        if n in s:\n",
    "            return False\n",
    "\n",
    "        s.add(n)\n",
    "\n",
    "    return False\n",
    "print(\"The following are happy numbers between 0 and 100:\")\n",
    "for a in range(0,101):\n",
    "    if (Happy(a)):\n",
    "        print(a)"
   ]
  },
  {
   "cell_type": "markdown",
   "metadata": {},
   "source": [
    "5. Write a Python program to determine whether the given number is a Harshad Number?"
   ]
  },
  {
   "cell_type": "code",
   "execution_count": 21,
   "metadata": {},
   "outputs": [
    {
     "name": "stdout",
     "output_type": "stream",
     "text": [
      "156 is a Harshad Number\n"
     ]
    }
   ],
   "source": [
    "a=int(input())\n",
    "c=a\n",
    "def sum_digits(a):\n",
    "    sum=0\n",
    "    while (a>0):\n",
    "        r=a%10\n",
    "        sum=sum+r\n",
    "        a=a//10\n",
    "    return sum\n",
    "m=a%sum_digits(a)\n",
    "if m==0:\n",
    "    print(f\"{c} is a Harshad Number\")\n",
    "    "
   ]
  },
  {
   "cell_type": "markdown",
   "metadata": {},
   "source": [
    "6. Write a Python program to print all pronic numbers between 1 and 100?"
   ]
  },
  {
   "cell_type": "code",
   "execution_count": 34,
   "metadata": {},
   "outputs": [
    {
     "name": "stdout",
     "output_type": "stream",
     "text": [
      "The following are pronic numbers between 1 and 100:\n",
      "6\n",
      "12\n",
      "20\n",
      "30\n",
      "42\n",
      "56\n",
      "72\n",
      "90\n"
     ]
    }
   ],
   "source": [
    "def check(a):\n",
    "    for i in range(0,a):\n",
    "        for j in range(i+1,a):\n",
    "            if (i*j==a):\n",
    "                return True\n",
    "            break\n",
    "print(\"The following are pronic numbers between 1 and 100:\")\n",
    "for i in range(0,101):\n",
    "    if (check(i)):\n",
    "        print(i)\n",
    "        "
   ]
  }
 ],
 "metadata": {
  "kernelspec": {
   "display_name": "base",
   "language": "python",
   "name": "python3"
  },
  "language_info": {
   "codemirror_mode": {
    "name": "ipython",
    "version": 3
   },
   "file_extension": ".py",
   "mimetype": "text/x-python",
   "name": "python",
   "nbconvert_exporter": "python",
   "pygments_lexer": "ipython3",
   "version": "3.11.4"
  }
 },
 "nbformat": 4,
 "nbformat_minor": 2
}
