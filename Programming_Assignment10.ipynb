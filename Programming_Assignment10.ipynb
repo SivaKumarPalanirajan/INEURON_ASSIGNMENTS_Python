{
 "cells": [
  {
   "cell_type": "markdown",
   "metadata": {},
   "source": [
    "SIVAKUMAR PALANIRAJAN"
   ]
  },
  {
   "cell_type": "markdown",
   "metadata": {},
   "source": [
    "1. Write a Python program to find sum of elements in list?"
   ]
  },
  {
   "cell_type": "code",
   "execution_count": 3,
   "metadata": {},
   "outputs": [
    {
     "name": "stdout",
     "output_type": "stream",
     "text": [
      "Sum of elements:9\n"
     ]
    }
   ],
   "source": [
    "a=[2,3,4]\n",
    "print(f\"Sum of elements:{sum(a)}\")"
   ]
  },
  {
   "cell_type": "markdown",
   "metadata": {},
   "source": [
    "2. Write a Python program to Multiply all numbers in the list?"
   ]
  },
  {
   "cell_type": "code",
   "execution_count": 4,
   "metadata": {},
   "outputs": [
    {
     "name": "stdout",
     "output_type": "stream",
     "text": [
      "Product of elements:24\n"
     ]
    }
   ],
   "source": [
    "a=[2,3,4]\n",
    "prod=1\n",
    "for i in a:\n",
    "    prod=prod*i\n",
    "print(f\"Product of elements:{prod}\")"
   ]
  },
  {
   "cell_type": "markdown",
   "metadata": {},
   "source": [
    "3. Write a Python program to find smallest number in a list?"
   ]
  },
  {
   "cell_type": "code",
   "execution_count": 6,
   "metadata": {},
   "outputs": [
    {
     "name": "stdout",
     "output_type": "stream",
     "text": [
      "The smallest number is:2\n"
     ]
    }
   ],
   "source": [
    "a=[2,3,4]\n",
    "print(f\"The smallest number is:{min(a)}\")"
   ]
  },
  {
   "cell_type": "markdown",
   "metadata": {},
   "source": [
    "4. Write a Python program to find largest number in a list?"
   ]
  },
  {
   "cell_type": "code",
   "execution_count": 7,
   "metadata": {},
   "outputs": [
    {
     "name": "stdout",
     "output_type": "stream",
     "text": [
      "The largest number is:4\n"
     ]
    }
   ],
   "source": [
    "a=[2,3,4]\n",
    "print(f\"The largest number is:{max(a)}\")"
   ]
  },
  {
   "cell_type": "markdown",
   "metadata": {},
   "source": [
    "5. Write a Python program to find second largest number in a list?"
   ]
  },
  {
   "cell_type": "code",
   "execution_count": 15,
   "metadata": {},
   "outputs": [
    {
     "name": "stdout",
     "output_type": "stream",
     "text": [
      "The second largest number is:4\n"
     ]
    }
   ],
   "source": [
    "a=[2,3,6,4]\n",
    "a=sorted(a)\n",
    "n=len(a)\n",
    "print(f\"The second largest number is:{a[-2]}\")"
   ]
  },
  {
   "cell_type": "markdown",
   "metadata": {},
   "source": [
    "6. Write a Python program to find N largest elements from a list?"
   ]
  },
  {
   "cell_type": "code",
   "execution_count": 16,
   "metadata": {},
   "outputs": [
    {
     "name": "stdout",
     "output_type": "stream",
     "text": [
      "The 3 largest numbers are:\n",
      "88\n",
      "34\n",
      "12\n"
     ]
    }
   ],
   "source": [
    "a=[2,3,6,12,88,34]\n",
    "n=int(input())\n",
    "print(f\"The {n} largest numbers are:\")\n",
    "for i in range(0,n):\n",
    "    b=max(a)\n",
    "    print(b)\n",
    "    a.remove(b)"
   ]
  },
  {
   "cell_type": "markdown",
   "metadata": {},
   "source": [
    "7. Write a Python program to print even numbers in a list?"
   ]
  },
  {
   "cell_type": "code",
   "execution_count": 19,
   "metadata": {},
   "outputs": [
    {
     "name": "stdout",
     "output_type": "stream",
     "text": [
      "The even numbers are:\n",
      "2\n",
      "6\n",
      "12\n",
      "88\n",
      "34\n"
     ]
    }
   ],
   "source": [
    "a=[2,3,6,12,33,88,34]\n",
    "print(\"The even numbers are:\")\n",
    "for i in a:\n",
    "    if (i%2==0):\n",
    "        print(i)"
   ]
  },
  {
   "cell_type": "markdown",
   "metadata": {},
   "source": [
    "8. Write a Python program to print odd numbers in a List?"
   ]
  },
  {
   "cell_type": "code",
   "execution_count": 21,
   "metadata": {},
   "outputs": [
    {
     "name": "stdout",
     "output_type": "stream",
     "text": [
      "The odd numbers are:\n",
      "3\n",
      "33\n"
     ]
    }
   ],
   "source": [
    "a=[2,3,6,12,33,88,34]\n",
    "print(\"The odd numbers are:\")\n",
    "for i in a:\n",
    "    if (i%2!=0):\n",
    "        print(i)"
   ]
  },
  {
   "cell_type": "markdown",
   "metadata": {},
   "source": [
    "9. Write a Python program to Remove empty List from List?"
   ]
  },
  {
   "cell_type": "code",
   "execution_count": 25,
   "metadata": {},
   "outputs": [
    {
     "name": "stdout",
     "output_type": "stream",
     "text": [
      "Original list:\n",
      "[[], 'a', 'b', ['b'], 'c', []]\n",
      "\n",
      "After deleting the empty lists:\n",
      "['a', 'b', ['b'], 'c']\n"
     ]
    }
   ],
   "source": [
    "list1 = [[],'a', 'b', ['b'], 'c', []]\n",
    "\n",
    "print(\"Original list:\")\n",
    "print(list1)\n",
    "\n",
    "print(\"\\nAfter deleting the empty lists:\")\n",
    "list2 = [x for x in list1 if x]\n",
    "print(list2)\n"
   ]
  },
  {
   "cell_type": "markdown",
   "metadata": {},
   "source": [
    "10. Write a Python program to Cloning or Copying a list?"
   ]
  },
  {
   "cell_type": "code",
   "execution_count": 28,
   "metadata": {},
   "outputs": [
    {
     "name": "stdout",
     "output_type": "stream",
     "text": [
      "Before cloning, list a equals to:[2, 3, 5, 6] and list b equals to:[]\n",
      "After cloning, list a equals to:[2, 3, 5, 6] and list b equals to:[2, 3, 5, 6]\n"
     ]
    }
   ],
   "source": [
    "a=[2,3,5,6]\n",
    "b=[]\n",
    "print(f\"Before cloning, list a equals to:{a} and list b equals to:{b}\")\n",
    "b=a\n",
    "print(f\"After cloning, list a equals to:{a} and list b equals to:{b}\")"
   ]
  },
  {
   "cell_type": "markdown",
   "metadata": {},
   "source": [
    "11. Write a Python program to Count occurrences of an element in a list?"
   ]
  },
  {
   "cell_type": "code",
   "execution_count": 24,
   "metadata": {},
   "outputs": [
    {
     "name": "stdout",
     "output_type": "stream",
     "text": [
      "a occurs 3 times\n",
      "b occurs 2 times\n",
      "c occurs 2 times\n",
      "d occurs 1 times\n",
      "e occurs 1 times\n"
     ]
    }
   ],
   "source": [
    "a=['a','a','b','c','a','d','c','e','b']\n",
    "s=set()\n",
    "for i in a:\n",
    "    if i not in s:\n",
    "        print(f\"{i} occurs {a.count(i)} times\")\n",
    "    s.add(i)"
   ]
  }
 ],
 "metadata": {
  "kernelspec": {
   "display_name": "base",
   "language": "python",
   "name": "python3"
  },
  "language_info": {
   "codemirror_mode": {
    "name": "ipython",
    "version": 3
   },
   "file_extension": ".py",
   "mimetype": "text/x-python",
   "name": "python",
   "nbconvert_exporter": "python",
   "pygments_lexer": "ipython3",
   "version": "3.11.4"
  }
 },
 "nbformat": 4,
 "nbformat_minor": 2
}
