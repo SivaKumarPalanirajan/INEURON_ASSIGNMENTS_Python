{
 "cells": [
  {
   "cell_type": "markdown",
   "metadata": {},
   "source": [
    "SIVAKUMAR PALANIRAJAN"
   ]
  },
  {
   "cell_type": "markdown",
   "metadata": {},
   "source": [
    "1. Write a Python Program to Display Fibonacci Sequence Using Recursion?"
   ]
  },
  {
   "cell_type": "code",
   "execution_count": 4,
   "metadata": {},
   "outputs": [
    {
     "name": "stdout",
     "output_type": "stream",
     "text": [
      "The fibonacci sequence for 5 elements:\n",
      "0\n",
      "1\n",
      "1\n",
      "2\n",
      "3\n"
     ]
    }
   ],
   "source": [
    "def fib_seq(a,b,n):\n",
    "    c=a+b\n",
    "    a=b\n",
    "    b=c\n",
    "    print(b)\n",
    "    if (n!=0):\n",
    "        fib_seq(a,b,n-1)\n",
    "    else:\n",
    "        return \n",
    "    \n",
    "n=int(input())\n",
    "a=0\n",
    "b=1\n",
    "print(f\"The fibonacci sequence for {n} elements:\")\n",
    "print(a)\n",
    "print(b)\n",
    "fib_seq(a,b,n-3)"
   ]
  },
  {
   "cell_type": "markdown",
   "metadata": {},
   "source": [
    "2. Write a Python Program to Find Factorial of Number Using Recursion?"
   ]
  },
  {
   "cell_type": "code",
   "execution_count": 14,
   "metadata": {},
   "outputs": [
    {
     "name": "stdout",
     "output_type": "stream",
     "text": [
      "The factorial is 6\n"
     ]
    }
   ],
   "source": [
    "def factorial(product,n):\n",
    "    n=n-1\n",
    "    if (n!=0):\n",
    "        product=product*(n)\n",
    "        factorial(product,n)\n",
    "    else:\n",
    "        print(f\"The factorial is {product}\")\n",
    "n=int(input())\n",
    "product=n\n",
    "a=factorial(product,n)\n"
   ]
  },
  {
   "cell_type": "markdown",
   "metadata": {},
   "source": [
    "3. Write a Python Program to calculate your Body Mass Index?"
   ]
  },
  {
   "cell_type": "code",
   "execution_count": 24,
   "metadata": {},
   "outputs": [
    {
     "name": "stdout",
     "output_type": "stream",
     "text": [
      "The body mass index for weight = 80 kilograms and height = 180 metres is 0.25 kg/m^2\n"
     ]
    }
   ],
   "source": [
    "weight_kg=int(input())\n",
    "height_mt=int(input())\n",
    "bmi=weight_kg/(height_mt)**2\n",
    "print(f\"The body mass index for weight = {weight_kg} kilograms and height = {height_mt} metres is {bmi*100:.2f} kg/m^2\")"
   ]
  },
  {
   "cell_type": "markdown",
   "metadata": {},
   "source": [
    "4. Write a Python Program to calculate the natural logarithm of any number?"
   ]
  },
  {
   "cell_type": "code",
   "execution_count": 28,
   "metadata": {},
   "outputs": [
    {
     "name": "stdout",
     "output_type": "stream",
     "text": [
      "The natural logarithm of 2 is 0.69\n"
     ]
    }
   ],
   "source": [
    "import math \n",
    "a=int(input())\n",
    "b=math.log(a)\n",
    "print(f\"The natural logarithm of {a} is {b:.2f}\")"
   ]
  },
  {
   "cell_type": "markdown",
   "metadata": {},
   "source": [
    "5. Write a Python Program for cube sum of first n natural numbers?"
   ]
  },
  {
   "cell_type": "code",
   "execution_count": 17,
   "metadata": {},
   "outputs": [
    {
     "name": "stdout",
     "output_type": "stream",
     "text": [
      "Cube sum of first 3 natural numbers is 36\n"
     ]
    }
   ],
   "source": [
    "n=int(input())\n",
    "sum=0\n",
    "for i in range(1,n+1):\n",
    "    sum=pow(i,3)+sum\n",
    "print(f\"Cube sum of first {n} natural numbers is {sum}\")"
   ]
  }
 ],
 "metadata": {
  "kernelspec": {
   "display_name": "base",
   "language": "python",
   "name": "python3"
  },
  "language_info": {
   "codemirror_mode": {
    "name": "ipython",
    "version": 3
   },
   "file_extension": ".py",
   "mimetype": "text/x-python",
   "name": "python",
   "nbconvert_exporter": "python",
   "pygments_lexer": "ipython3",
   "version": "3.11.4"
  }
 },
 "nbformat": 4,
 "nbformat_minor": 2
}
