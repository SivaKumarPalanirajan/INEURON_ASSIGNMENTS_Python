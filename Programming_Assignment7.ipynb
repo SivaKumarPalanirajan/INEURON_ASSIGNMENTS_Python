{
 "cells": [
  {
   "cell_type": "markdown",
   "metadata": {},
   "source": [
    "SIVAKUMAR PALANIRAJAN"
   ]
  },
  {
   "cell_type": "markdown",
   "metadata": {},
   "source": [
    "1. Write a Python Program to find sum of array?"
   ]
  },
  {
   "cell_type": "code",
   "execution_count": 6,
   "metadata": {},
   "outputs": [
    {
     "name": "stdout",
     "output_type": "stream",
     "text": [
      "The array is [1, 2, 3, 4]\n",
      "Sum of array is 10\n"
     ]
    }
   ],
   "source": [
    "number_of_elements=int(input())\n",
    "sum=0\n",
    "a=[]\n",
    "for i in range(0,number_of_elements):\n",
    "    a.append(int(input()))\n",
    "    sum=sum+a[i]\n",
    "print(f\"The array is {a}\")\n",
    "print(f\"Sum of array is {sum}\")\n"
   ]
  },
  {
   "cell_type": "markdown",
   "metadata": {},
   "source": [
    "2. Write a Python Program to find largest element in an array?"
   ]
  },
  {
   "cell_type": "code",
   "execution_count": 17,
   "metadata": {},
   "outputs": [
    {
     "name": "stdout",
     "output_type": "stream",
     "text": [
      "The array is [25, 87, 95, 47]\n",
      "The largest element is 95\n"
     ]
    }
   ],
   "source": [
    "number_of_elements=int(input())\n",
    "arr1=[]\n",
    "for i in range(0,number_of_elements):\n",
    "    arr1.append(int(input()))\n",
    "maximum=arr1[0]\n",
    "for j in range(0,number_of_elements):\n",
    "    current=arr1[j]\n",
    "    if current>maximum:\n",
    "        maximum=current\n",
    "print(f\"The array is {arr1}\")\n",
    "print(f\"The largest element is {maximum}\")"
   ]
  },
  {
   "cell_type": "markdown",
   "metadata": {},
   "source": [
    "3. Write a Python Program for array rotation?"
   ]
  },
  {
   "cell_type": "code",
   "execution_count": 22,
   "metadata": {},
   "outputs": [
    {
     "name": "stdout",
     "output_type": "stream",
     "text": [
      "The array before rotation is [1, 2, 3, 4, 5, 6]\n",
      "The numbers of elements to be rotated: 3\n",
      "The array after rotation is [4, 5, 6, 1, 2, 3]\n"
     ]
    }
   ],
   "source": [
    "number_of_elements=int(input())\n",
    "arr2=[]\n",
    "for i in range(0,number_of_elements):\n",
    "    arr2.append(int(input()))\n",
    "print(f\"The array before rotation is {arr2}\")\n",
    "k=int(input())\n",
    "print(f\"The numbers of elements to be rotated: {k}\")\n",
    "temp = []\n",
    "i = 0\n",
    "while (i < k):\n",
    "    temp.append(arr2[i])\n",
    "    i = i + 1\n",
    "i = 0\n",
    "while (k < number_of_elements):\n",
    "    arr2[i] = arr2[k]\n",
    "    i = i + 1\n",
    "    k = k + 1\n",
    "arr2[:] = arr2[: i] + temp\n",
    "print(f\"The array after rotation is {arr2}\")"
   ]
  },
  {
   "cell_type": "markdown",
   "metadata": {},
   "source": [
    "4. Write a Python Program to Split the array and add the first part to the end?"
   ]
  },
  {
   "cell_type": "code",
   "execution_count": 19,
   "metadata": {},
   "outputs": [
    {
     "name": "stdout",
     "output_type": "stream",
     "text": [
      "The position at which the array is splitted: 1\n",
      "The initial array: [2, 3, 4, 5]\n",
      "The final array: [3, 4, 5, 2]\n"
     ]
    }
   ],
   "source": [
    "number_of_elements=int(input())\n",
    "arr3=[]\n",
    "position_to_split=int(input())\n",
    "print(f\"The position at which the array is splitted: {position_to_split}\")\n",
    "for i in range(0,number_of_elements):\n",
    "    arr3.append(int(input()))\n",
    "print(f\"The initial array: {arr3}\")\n",
    "for i in range(0, position_to_split):\n",
    "\t\tx = arr3[0]\n",
    "\t\tfor j in range(0, number_of_elements-1):\n",
    "\t\t\tarr3[j] = arr3[j + 1]\n",
    "\t\t\n",
    "\t\tarr3[number_of_elements-1] = x\t    \n",
    "print(f\"The final array: {arr3}\")"
   ]
  },
  {
   "cell_type": "markdown",
   "metadata": {},
   "source": [
    "5. Write a Python Program to check if given array is Monotonic?"
   ]
  },
  {
   "cell_type": "code",
   "execution_count": 8,
   "metadata": {},
   "outputs": [
    {
     "name": "stdout",
     "output_type": "stream",
     "text": [
      "The array is [1, 2, 3]\n",
      "The array is Monotonic\n"
     ]
    }
   ],
   "source": [
    "number_of_elements=int(input())\n",
    "arr4=[]\n",
    "for i in range(0,number_of_elements):\n",
    "    arr4.append(int(input()))\n",
    "m=0\n",
    "k=0\n",
    "for i in range(0,number_of_elements):\n",
    "    for j in range(i+1,number_of_elements):\n",
    "        if (arr4[i]>arr4[j]):\n",
    "            m=m+1\n",
    "        else:\n",
    "            break\n",
    "for i in range(0,number_of_elements):\n",
    "    for j in range(i+1,number_of_elements):\n",
    "        if (arr4[i]<arr4[j]):\n",
    "            k=k+1\n",
    "        else:\n",
    "            break\n",
    "print(f\"The array is {arr4}\")\n",
    "if (m==number_of_elements or k==number_of_elements):\n",
    "    print(\"The array is Monotonic\")\n",
    "else:\n",
    "    print(\"The array isnt Monotonic\")"
   ]
  }
 ],
 "metadata": {
  "kernelspec": {
   "display_name": "base",
   "language": "python",
   "name": "python3"
  },
  "language_info": {
   "codemirror_mode": {
    "name": "ipython",
    "version": 3
   },
   "file_extension": ".py",
   "mimetype": "text/x-python",
   "name": "python",
   "nbconvert_exporter": "python",
   "pygments_lexer": "ipython3",
   "version": "3.11.4"
  }
 },
 "nbformat": 4,
 "nbformat_minor": 2
}
