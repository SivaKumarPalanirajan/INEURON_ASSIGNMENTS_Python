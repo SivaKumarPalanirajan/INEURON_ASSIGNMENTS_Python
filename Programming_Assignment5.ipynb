{
 "cells": [
  {
   "cell_type": "markdown",
   "metadata": {},
   "source": [
    "SIVAKUMAR PALANIRAJAN"
   ]
  },
  {
   "cell_type": "markdown",
   "metadata": {},
   "source": [
    "1. Write a Python Program to Find LCM?"
   ]
  },
  {
   "cell_type": "code",
   "execution_count": 5,
   "metadata": {},
   "outputs": [
    {
     "name": "stdout",
     "output_type": "stream",
     "text": [
      "The LCM of 3 and 6 is 6\n"
     ]
    }
   ],
   "source": [
    "import math\n",
    "a=int(input())   \n",
    "b=int(input())\n",
    "print(f\"The LCM of {a} and {b} is {math.lcm(a,b)}\")"
   ]
  },
  {
   "cell_type": "markdown",
   "metadata": {},
   "source": [
    "2. Write a Python Program to Find HCF?"
   ]
  },
  {
   "cell_type": "code",
   "execution_count": 6,
   "metadata": {},
   "outputs": [
    {
     "name": "stdout",
     "output_type": "stream",
     "text": [
      "The HCF of 8 and 12 is 4\n"
     ]
    }
   ],
   "source": [
    "import cmath\n",
    "a=int(input())\n",
    "b=int(input())\n",
    "if (a<b):\n",
    "    c=a\n",
    "else:\n",
    "    c=b\n",
    "for i in range(1,c+1):\n",
    "    if (a%i==0) and (b%i==0):\n",
    "        maxi=i\n",
    "print(f\"The HCF of {a} and {b} is {maxi}\")"
   ]
  },
  {
   "cell_type": "markdown",
   "metadata": {},
   "source": [
    "3. Write a Python Program to Convert Decimal to Binary, Octal and Hexadecimal?"
   ]
  },
  {
   "cell_type": "code",
   "execution_count": 8,
   "metadata": {},
   "outputs": [
    {
     "name": "stdout",
     "output_type": "stream",
     "text": [
      "12 in binary:0b1100\n",
      "12 in Octal:0o14\n",
      "12 in Hexadecimal:0xc\n"
     ]
    }
   ],
   "source": [
    "a=int(input())\n",
    "print(f\"{a} in binary:{bin(a)}\")\n",
    "print(f\"{a} in Octal:{oct(a)}\")\n",
    "print(f\"{a} in Hexadecimal:{hex(a)}\")"
   ]
  },
  {
   "cell_type": "markdown",
   "metadata": {},
   "source": [
    "4. Write a Python Program To Find ASCII value of a character?"
   ]
  },
  {
   "cell_type": "code",
   "execution_count": 21,
   "metadata": {},
   "outputs": [
    {
     "name": "stdout",
     "output_type": "stream",
     "text": [
      "ASCII value of e:'e'\n"
     ]
    }
   ],
   "source": [
    "a=input()\n",
    "print(f\"ASCII value of {a}:{ascii(a)}\")"
   ]
  },
  {
   "cell_type": "markdown",
   "metadata": {},
   "source": [
    "5. Write a Python Program to Make a Simple Calculator with 4 basic mathematical operations?"
   ]
  },
  {
   "cell_type": "code",
   "execution_count": 4,
   "metadata": {},
   "outputs": [
    {
     "name": "stdout",
     "output_type": "stream",
     "text": [
      "8*6=48\n"
     ]
    }
   ],
   "source": [
    "def calc(op,a,b):\n",
    "    if op=='+':\n",
    "        print(f\"{a}+{b}={a+b}\")\n",
    "    elif op=='-':\n",
    "        print(f\"{a}-{b}={a-b}\")\n",
    "    elif op=='*':\n",
    "        print(f\"{a}*{b}={a*b}\")\n",
    "    elif op=='/':\n",
    "        print(f\"{a}/{b}={a/b:.2f}\")\n",
    "    else:\n",
    "        print(\"Invalid\")   \n",
    "a=int(input())\n",
    "b=int(input())\n",
    "op=input()\n",
    "calc(op,a,b)\n",
    " "
   ]
  }
 ],
 "metadata": {
  "kernelspec": {
   "display_name": "base",
   "language": "python",
   "name": "python3"
  },
  "language_info": {
   "codemirror_mode": {
    "name": "ipython",
    "version": 3
   },
   "file_extension": ".py",
   "mimetype": "text/x-python",
   "name": "python",
   "nbconvert_exporter": "python",
   "pygments_lexer": "ipython3",
   "version": "3.11.4"
  }
 },
 "nbformat": 4,
 "nbformat_minor": 2
}
