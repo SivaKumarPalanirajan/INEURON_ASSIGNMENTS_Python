{
 "cells": [
  {
   "cell_type": "markdown",
   "metadata": {},
   "source": [
    "SIVAKUMAR PALANIRAJAN"
   ]
  },
  {
   "cell_type": "markdown",
   "metadata": {},
   "source": [
    "Question 1:\n",
    "Write a program that calculates and prints the value according to the given formula:\n",
    "Q = Square root of [(2 * C * D)/H]\n",
    "Following are the fixed values of C and H:\n",
    "C is 50. H is 30.\n",
    "D is the variable whose values should be input to your program in a comma-separated\n",
    "sequence.\n",
    "Example\n",
    "Let us assume the following comma separated input sequence is given to the program:\n",
    "100,150,180\n",
    "The output of the program should be:\n",
    "18,22,24"
   ]
  },
  {
   "cell_type": "code",
   "execution_count": 6,
   "metadata": {},
   "outputs": [
    {
     "name": "stdout",
     "output_type": "stream",
     "text": [
      "The inputs are:[100, 150, 180]\n",
      "Output:[18, 22, 24]\n"
     ]
    }
   ],
   "source": [
    "import math\n",
    "c=50\n",
    "h=30\n",
    "a=[]\n",
    "inputs=list(map(int,input().split(\",\")))\n",
    "print(f\"The inputs are:{inputs}\")\n",
    "for d in inputs:\n",
    "    q=math.sqrt((2*c*d)/h)\n",
    "    a.append(round(q))\n",
    "print(f\"Output:{a}\")"
   ]
  },
  {
   "cell_type": "markdown",
   "metadata": {},
   "source": [
    "Question 2:\n",
    "Write a program which takes 2 digits, X,Y as input and generates a 2-dimensional array. The\n",
    "element value in the i-th row and j-th column of the array should be i*j.\n",
    "Note: i=0,1.., X-1; j=0,1,¡Y-1.\n",
    "Example\n",
    "Suppose the following inputs are given to the program:\n",
    "3,5\n",
    "Then, the output of the program should be:\n",
    "[[0, 0, 0, 0, 0], [0, 1, 2, 3, 4], [0, 2, 4, 6, 8]]"
   ]
  },
  {
   "cell_type": "code",
   "execution_count": 4,
   "metadata": {},
   "outputs": [
    {
     "name": "stdout",
     "output_type": "stream",
     "text": [
      "[[0. 0. 0. 0. 0.]\n",
      " [0. 1. 2. 3. 4.]\n",
      " [0. 2. 4. 6. 8.]]\n"
     ]
    }
   ],
   "source": [
    "import numpy as np\n",
    "x=int(input())\n",
    "y=int(input())\n",
    "arr=np.zeros((x,y))\n",
    "for i in range(0,x):\n",
    "    for j in range(0,y):\n",
    "        arr[i][j]=i*j\n",
    "print(np.array(arr))\n"
   ]
  },
  {
   "cell_type": "markdown",
   "metadata": {},
   "source": [
    "Question 3:\n",
    "Write a program that accepts a comma separated sequence of words as input and prints the\n",
    "words in a comma-separated sequence after sorting them alphabetically.\n",
    "Suppose the following input is supplied to the program:\n",
    "without,hello,bag,world\n",
    "Then, the output should be:\n",
    "bag,hello,without,world"
   ]
  },
  {
   "cell_type": "code",
   "execution_count": 8,
   "metadata": {},
   "outputs": [
    {
     "name": "stdout",
     "output_type": "stream",
     "text": [
      "Intially:['without', 'hello', 'bag', 'world']\n",
      "After sorting:['bag', 'hello', 'without', 'world']\n"
     ]
    }
   ],
   "source": [
    "a=list(input().split(','))\n",
    "print(f\"Intially:{a}\")\n",
    "a.sort()\n",
    "print(f\"After sorting:{a}\")"
   ]
  },
  {
   "cell_type": "markdown",
   "metadata": {},
   "source": [
    "Question 4:\n",
    "Write a program that accepts a sequence of whitespace separated words as input and prints\n",
    "the words after removing all duplicate words and sorting them alphanumerically.\n",
    "Suppose the following input is supplied to the program:\n",
    "hello world and practice makes perfect and hello world again\n",
    "Then, the output should be:\n",
    "again and hello makes perfect practice world"
   ]
  },
  {
   "cell_type": "code",
   "execution_count": 21,
   "metadata": {},
   "outputs": [
    {
     "name": "stdout",
     "output_type": "stream",
     "text": [
      "Before removing duplicates:\n",
      "hello world and practice makes perfect and hello world again\n",
      "After removing duplicates:\n",
      "practice makes perfect and hello world again\n"
     ]
    }
   ],
   "source": [
    "a=list(input().split(\" \"))\n",
    "print(f\"Before removing duplicates:\")\n",
    "print(*a)\n",
    "for i in a:\n",
    "    if a.count(i)>1:\n",
    "        a.remove(i)\n",
    "print(\"After removing duplicates:\")\n",
    "print(*a)"
   ]
  },
  {
   "cell_type": "markdown",
   "metadata": {},
   "source": [
    "Question 5:\n",
    "Write a program that accepts a sentence and calculate the number of letters and digits.\n",
    "Suppose the following input is supplied to the program:\n",
    "hello world! 123\n",
    "Then, the output should be:\n",
    "LETTERS 10\n",
    "DIGITS 3"
   ]
  },
  {
   "cell_type": "code",
   "execution_count": 23,
   "metadata": {},
   "outputs": [
    {
     "name": "stdout",
     "output_type": "stream",
     "text": [
      "The inputs:hello world! 123\n",
      "LETTERS 10\n",
      "DIGITS 3\n"
     ]
    }
   ],
   "source": [
    "a=input()\n",
    "n=len(a)\n",
    "alp=0\n",
    "num=0\n",
    "for i in a:\n",
    "    if i.isalpha():\n",
    "        alp+=1\n",
    "    elif i.isnumeric():\n",
    "        num+=1\n",
    "    else:\n",
    "        continue\n",
    "print(f\"The inputs:{a}\")\n",
    "print(f\"LETTERS {alp}\")\n",
    "print(f\"DIGITS {num}\")"
   ]
  },
  {
   "cell_type": "markdown",
   "metadata": {},
   "source": [
    "Question 6:\n",
    "A website requires the users to input username and password to register. Write a program to\n",
    "check the validity of password input by users.\n",
    "Following are the criteria for checking the password:\n",
    "1. At least 1 letter between [a-z]\n",
    "2. At least 1 number between [0-9]\n",
    "1. At least 1 letter between [A-Z]\n",
    "3. At least 1 character from [$#@]\n",
    "4. Minimum length of transaction password: 6\n",
    "5. Maximum length of transaction password: 12\n",
    "Your program should accept a sequence of comma separated passwords and will check them\n",
    "according to the above criteria. Passwords that match the criteria are to be printed, each\n",
    "separated by a comma.\n",
    "Example\n",
    "If the following passwords are given as input to the program:\n",
    "ABd1234@1,a F1#,2w3E*,2We3345\n",
    "Then, the output of the program should be:\n",
    "ABd1234@1"
   ]
  },
  {
   "cell_type": "code",
   "execution_count": 38,
   "metadata": {},
   "outputs": [
    {
     "name": "stdout",
     "output_type": "stream",
     "text": [
      "Inputs:\n",
      "ABd1234@1,a F1#,2w3E*,2We3345\n",
      "Valid Passwords:\n",
      "ABd1234@1\n"
     ]
    }
   ],
   "source": [
    "a=list(input().split(\",\"))\n",
    "print(\"Inputs:\")\n",
    "print(*a,sep=',')\n",
    "b=[]\n",
    "for i in a:\n",
    "    upper=False\n",
    "    lower=False\n",
    "    num=False\n",
    "    spec=False\n",
    "    qualify=False\n",
    "    for j in i:\n",
    "        if len(i)>=6 and len(i)<=12:   \n",
    "            if j.isalpha():\n",
    "                if j.isupper():\n",
    "                    upper=True\n",
    "                elif j.islower():\n",
    "                    lower=True\n",
    "            elif j.isnumeric():\n",
    "                num=True\n",
    "            elif j in ['$','#','@']:\n",
    "                spec=True\n",
    "    if (spec==True and upper==True and lower==True and num==True):\n",
    "        b.append(i)\n",
    "print(\"Valid Passwords:\")\n",
    "print(*b,sep=\",\")      "
   ]
  }
 ],
 "metadata": {
  "kernelspec": {
   "display_name": "base",
   "language": "python",
   "name": "python3"
  },
  "language_info": {
   "codemirror_mode": {
    "name": "ipython",
    "version": 3
   },
   "file_extension": ".py",
   "mimetype": "text/x-python",
   "name": "python",
   "nbconvert_exporter": "python",
   "pygments_lexer": "ipython3",
   "version": "3.11.4"
  }
 },
 "nbformat": 4,
 "nbformat_minor": 2
}
