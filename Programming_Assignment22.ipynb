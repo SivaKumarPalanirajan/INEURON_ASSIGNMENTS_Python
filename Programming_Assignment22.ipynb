{
 "cells": [
  {
   "cell_type": "markdown",
   "metadata": {},
   "source": [
    "SIVAKUMAR PALANIRAJAN"
   ]
  },
  {
   "cell_type": "markdown",
   "metadata": {},
   "source": [
    "Question1\n",
    "\n",
    "Create a function that takes three parameters where:\n",
    "\n",
    " x is the start of the range (inclusive).\n",
    "\n",
    " y is the end of the range (inclusive).\n",
    "\n",
    " n is the divisor to be checked against.\n",
    "\n",
    "Return an ordered list with numbers in the range that are divisible by the third parameter n.\n",
    "\n",
    "Return an empty list if there are no numbers that are divisible by n.\n",
    "\n",
    "Examples\n",
    "\n",
    "list_operation(1, 10, 3) ➞ [3, 6, 9]\n",
    "\n",
    "list_operation(7, 9, 2) ➞ [8]\n",
    "\n",
    "list_operation(15, 20, 7) ➞ []"
   ]
  },
  {
   "cell_type": "code",
   "execution_count": 3,
   "metadata": {},
   "outputs": [
    {
     "name": "stdout",
     "output_type": "stream",
     "text": [
      "Start:7 End:9 Divisor:2\n",
      "The suitable elements: [8]\n"
     ]
    }
   ],
   "source": [
    "def list_operation(start,end,check):\n",
    "    list1=[]\n",
    "    for i in range(start,end+1):\n",
    "        if i%check==0:\n",
    "            list1.append(i)\n",
    "    return list1 \n",
    "start=int(input())\n",
    "end=int(input())\n",
    "check=int(input())\n",
    "print(f\"Start:{start} End:{end} Divisor:{check}\")\n",
    "print(\"The suitable elements:\",list_operation(start,end,check))"
   ]
  },
  {
   "cell_type": "markdown",
   "metadata": {},
   "source": [
    "Question2\n",
    "\n",
    "Create a function that takes in two lists and returns True if the second list follows the first list\n",
    "by one element, and False otherwise. In other words, determine if the second list is the first\n",
    "list shifted to the right by 1.\n",
    "\n",
    "Examples\n",
    "\n",
    "simon_says([1, 2], [5, 1]) ➞ True\n",
    "\n",
    "simon_says([1, 2], [5, 5]) ➞ False\n",
    "\n",
    "simon_says([1, 2, 3, 4, 5], [0, 1, 2, 3, 4]) ➞ True\n",
    "\n",
    "simon_says([1, 2, 3, 4, 5], [5, 5, 1, 2, 3]) ➞ False\n",
    "\n",
    "Notes\n",
    "\n",
    " Both input lists will be of the same length, and will have a minimum length of 2.\n",
    " The values of the 0-indexed element in the second list and the n-1th indexed element\n",
    "in the first list do not matter."
   ]
  },
  {
   "cell_type": "code",
   "execution_count": 24,
   "metadata": {},
   "outputs": [
    {
     "name": "stdout",
     "output_type": "stream",
     "text": [
      "List 1: [1, 2, 3, 4, 5]\n",
      "List 2: [0, 1, 2, 3, 4]\n",
      "The output: True\n"
     ]
    }
   ],
   "source": [
    "def simon_says(list1,list2):\n",
    "    i=0\n",
    "    j=1\n",
    "    while i<len(list1)-1 and j<len(list2):\n",
    "        if list1[i]==list2[j]:\n",
    "            i+=1\n",
    "            j+=1\n",
    "            continue \n",
    "        else:\n",
    "            return False \n",
    "    return True \n",
    "list1=list(map(int,input().split(\",\")))\n",
    "list2=list(map(int,input().split(\",\")))\n",
    "print(\"List 1:\",list1)\n",
    "print(\"List 2:\",list2)\n",
    "print(\"The output:\",simon_says(list1,list2))"
   ]
  },
  {
   "cell_type": "markdown",
   "metadata": {},
   "source": [
    "Question3\n",
    "\n",
    "A group of friends have decided to start a secret society. The name will be the first letter of\n",
    "each of their names, sorted in alphabetical order.\n",
    "\n",
    "Create a function that takes in a list of names and returns the name of the secret society.\n",
    "\n",
    "Examples\n",
    "\n",
    "society_name([\"Adam\", \"Sarah\", \"Malcolm\"]) ➞ \"AMS\"\n",
    "\n",
    "society_name([\"Harry\", \"Newt\", \"Luna\", \"Cho\"]) ➞ \"CHLN\"\n",
    "\n",
    "society_name([\"Phoebe\", \"Chandler\", \"Rachel\", \"Ross\", \"Monica\", \"Joey\"])"
   ]
  },
  {
   "cell_type": "code",
   "execution_count": 21,
   "metadata": {},
   "outputs": [
    {
     "name": "stdout",
     "output_type": "stream",
     "text": [
      "Input: ['Phoebe', 'Chandler', 'Rachel', 'Ross', 'Monica', 'Joey']\n",
      "Society name: CJMPRR\n"
     ]
    }
   ],
   "source": [
    "def society_name(list1):\n",
    "    s=\"\"\n",
    "    list1.sort()\n",
    "    for i in list1:\n",
    "        s=s+i[0]\n",
    "    return s \n",
    "inp=list(input().split(\",\"))\n",
    "print(\"Input:\",inp)\n",
    "print(\"Society name:\",society_name(inp))"
   ]
  },
  {
   "cell_type": "markdown",
   "metadata": {},
   "source": [
    "Question4\n",
    "\n",
    "An isogram is a word that has no duplicate letters. Create a function that takes a string and\n",
    "returns either True or False depending on whether or not it's an \"isogram\".\n",
    "\n",
    "Examples\n",
    "\n",
    "is_isogram(\"Algorism\") ➞ True\n",
    "\n",
    "is_isogram(\"PasSword\") ➞ False\n",
    "\n",
    "# Not case sensitive.\n",
    "\n",
    "is_isogram(\"Consecutive\") ➞ False\n",
    "\n",
    "Notes\n",
    "\n",
    " Ignore letter case (should not be case sensitive).\n",
    " All test cases contain valid one word strings."
   ]
  },
  {
   "cell_type": "code",
   "execution_count": 14,
   "metadata": {},
   "outputs": [
    {
     "name": "stdout",
     "output_type": "stream",
     "text": [
      "Input: Algorism\n",
      "Is the input an isogram? True\n"
     ]
    }
   ],
   "source": [
    "def is_isogram(inp):\n",
    "    inp=inp.lower()\n",
    "    check=set()\n",
    "    for i in inp:\n",
    "        if i not in check:\n",
    "            check.add(i)\n",
    "        else:\n",
    "            return False \n",
    "    return True \n",
    "inp=input()\n",
    "print(\"Input:\",inp)\n",
    "print(\"Is the input an isogram?\",is_isogram(inp))"
   ]
  },
  {
   "cell_type": "markdown",
   "metadata": {},
   "source": [
    "Question5\n",
    "\n",
    "Create a function that takes a string and returns True or False, depending on whether the\n",
    "characters are in order or not.\n",
    "\n",
    "Examples\n",
    "\n",
    "is_in_order(\"abc\") ➞ True\n",
    "\n",
    "is_in_order(\"edabit\") ➞ False\n",
    "\n",
    "is_in_order(\"123\") ➞ True\n",
    "\n",
    "is_in_order(\"xyzz\") ➞ True\n",
    "\n",
    "Notes\n",
    "\n",
    "You don't have to handle empty strings."
   ]
  },
  {
   "cell_type": "code",
   "execution_count": 8,
   "metadata": {},
   "outputs": [
    {
     "name": "stdout",
     "output_type": "stream",
     "text": [
      "True\n"
     ]
    }
   ],
   "source": [
    "def is_in_order(inp):\n",
    "    sort=\"\".join(sorted(inp))\n",
    "    if inp==sort:\n",
    "        return True \n",
    "    return False \n",
    "inp=input()\n",
    "print(is_in_order(inp))"
   ]
  }
 ],
 "metadata": {
  "kernelspec": {
   "display_name": "base",
   "language": "python",
   "name": "python3"
  },
  "language_info": {
   "codemirror_mode": {
    "name": "ipython",
    "version": 3
   },
   "file_extension": ".py",
   "mimetype": "text/x-python",
   "name": "python",
   "nbconvert_exporter": "python",
   "pygments_lexer": "ipython3",
   "version": "3.11.4"
  }
 },
 "nbformat": 4,
 "nbformat_minor": 2
}
