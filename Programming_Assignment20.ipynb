{
 "cells": [
  {
   "cell_type": "markdown",
   "metadata": {},
   "source": [
    "SIVAKUMAR PALANIRAJAN"
   ]
  },
  {
   "cell_type": "markdown",
   "metadata": {},
   "source": [
    "Question1\n",
    "Create a function that takes a list of strings and integers, and filters out the list so that it\n",
    "returns a list of integers only.\n",
    "Examples\n",
    "filter_list([1, 2, 3, \"a\", \"b\", 4]) ➞ [1, 2, 3, 4]\n",
    "filter_list([\"A\", 0, \"Edabit\", 1729, \"Python\", \"1729\"]) ➞ [0, 1729]\n",
    "filter_list([\"Nothing\", \"here\"]) ➞ []"
   ]
  },
  {
   "cell_type": "code",
   "execution_count": 18,
   "metadata": {},
   "outputs": [
    {
     "name": "stdout",
     "output_type": "stream",
     "text": [
      "Input: ['1', '2', '3', '\"a\"', '\"b\"', '4']\n",
      "Output: ['1', '2', '3', '4']\n"
     ]
    }
   ],
   "source": [
    "def filter_list(list1):\n",
    "    list2=[]\n",
    "    for i in list1:\n",
    "        if i.isnumeric():\n",
    "            list2.append(i)\n",
    "    return list2\n",
    "list1=list(input().split(\",\"))\n",
    "print(\"Input:\",list1)\n",
    "print(\"Output:\",filter_list(list1))"
   ]
  },
  {
   "cell_type": "markdown",
   "metadata": {},
   "source": [
    "Question2\n",
    "Given a list of numbers, create a function which returns the list but with each element's\n",
    "index in the list added to itself. This means you add 0 to the number at index 0, add 1 to the\n",
    "number at index 1, etc...\n",
    "Examples\n",
    "add_indexes([0, 0, 0, 0, 0]) ➞ [0, 1, 2, 3, 4]\n",
    "add_indexes([1, 2, 3, 4, 5]) ➞ [1, 3, 5, 7, 9]\n",
    "add_indexes([5, 4, 3, 2, 1]) ➞ [5, 5, 5, 5, 5]"
   ]
  },
  {
   "cell_type": "code",
   "execution_count": 21,
   "metadata": {},
   "outputs": [
    {
     "name": "stdout",
     "output_type": "stream",
     "text": [
      "Input: [5, 4, 3, 2, 1]\n",
      "New List: [5, 5, 5, 5, 5]\n"
     ]
    }
   ],
   "source": [
    "def add_indexes(list1):\n",
    "    new=[]\n",
    "    for ind,i in enumerate(list1):\n",
    "        new.append(ind+i)\n",
    "    return new \n",
    "\n",
    "list1=list(map(int,input().split(\",\")))\n",
    "print(\"Input:\",list1)\n",
    "print(\"New List:\",add_indexes(list1)) "
   ]
  },
  {
   "cell_type": "markdown",
   "metadata": {},
   "source": [
    "Question3\n",
    "Create a function that takes the height and radius of a cone as arguments and returns the\n",
    "volume of the cone rounded to the nearest hundredth. See the resources tab for the formula.\n",
    "\n",
    "Examples\n",
    "cone_volume(3, 2) ➞ 12.57\n",
    "\n",
    "cone_volume(15, 6) ➞ 565.49\n",
    "cone_volume(18, 0) ➞ 0"
   ]
  },
  {
   "cell_type": "code",
   "execution_count": 29,
   "metadata": {},
   "outputs": [
    {
     "name": "stdout",
     "output_type": "stream",
     "text": [
      "Height: 3 Radius: 2\n",
      "Volume of the Cone: 12.57\n"
     ]
    }
   ],
   "source": [
    "def cone_volume(h,r):\n",
    "    vol=(1/3)*(22/7)*r**2*h\n",
    "    print(f\"Volume of the Cone: {vol:.2f}\")\n",
    "\n",
    "height,radius=map(int,input().split(\",\"))\n",
    "print(\"Height:\",height,\"Radius:\",radius)\n",
    "cone_volume(height,radius)\n"
   ]
  },
  {
   "cell_type": "markdown",
   "metadata": {},
   "source": [
    "Question4\n",
    "This Triangular Number Sequence is generated from a pattern of dots that form a triangle.\n",
    "The first 5 numbers of the sequence, or dots, are:\n",
    "1, 3, 6, 10, 15\n",
    "This means that the first triangle has just one dot, the second one has three dots, the third one\n",
    "has 6 dots and so on.\n",
    "Write a function that gives the number of dots with its corresponding triangle number of the\n",
    "sequence.\n",
    "Examples\n",
    "triangle(1) ➞ 1\n",
    "triangle(6) ➞ 21\n",
    "triangle(215) ➞ 23220"
   ]
  },
  {
   "cell_type": "code",
   "execution_count": 32,
   "metadata": {},
   "outputs": [
    {
     "name": "stdout",
     "output_type": "stream",
     "text": [
      "Input: 215\n",
      "No of dots: 23220\n"
     ]
    }
   ],
   "source": [
    "def triangle(num):\n",
    "    i=0\n",
    "    dots=0\n",
    "    while i<num:\n",
    "        i+=1\n",
    "        dots+=i\n",
    "    return dots\n",
    "\n",
    "num=int(input())\n",
    "print(\"Input:\",num)\n",
    "print(\"No of dots:\",triangle(num))"
   ]
  },
  {
   "cell_type": "markdown",
   "metadata": {},
   "source": [
    "Question5\n",
    "Create a function that takes a list of numbers between 1 and 10 (excluding one number) and\n",
    "returns the missing number.\n",
    "Examples\n",
    "missing_num([1, 2, 3, 4, 6, 7, 8, 9, 10]) ➞ 5\n",
    "missing_num([7, 2, 3, 6, 5, 9, 1, 4, 8]) ➞ 10\n",
    "missing_num([10, 5, 1, 2, 4, 6, 8, 3, 9]) ➞ 7"
   ]
  },
  {
   "cell_type": "code",
   "execution_count": 20,
   "metadata": {},
   "outputs": [
    {
     "name": "stdout",
     "output_type": "stream",
     "text": [
      "Input: [7, 2, 3, 6, 5, 9, 1, 4, 8]\n",
      "Missing Number: 10\n"
     ]
    }
   ],
   "source": [
    "def missing_num(list1):\n",
    "    for i in range(1,11):\n",
    "        if i not in list1:\n",
    "            return i \n",
    "    return None\n",
    "\n",
    "list1=list(map(int,input().split(\",\")))\n",
    "print(\"Input:\",list1)\n",
    "print(\"Missing Number:\",missing_num(list1)) "
   ]
  }
 ],
 "metadata": {
  "kernelspec": {
   "display_name": "base",
   "language": "python",
   "name": "python3"
  },
  "language_info": {
   "codemirror_mode": {
    "name": "ipython",
    "version": 3
   },
   "file_extension": ".py",
   "mimetype": "text/x-python",
   "name": "python",
   "nbconvert_exporter": "python",
   "pygments_lexer": "ipython3",
   "version": "3.11.4"
  }
 },
 "nbformat": 4,
 "nbformat_minor": 2
}
