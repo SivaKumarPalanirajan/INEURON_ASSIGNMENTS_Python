{
 "cells": [
  {
   "cell_type": "markdown",
   "metadata": {},
   "source": [
    "SIVAKUMAR PALANIRAJAN"
   ]
  },
  {
   "cell_type": "markdown",
   "metadata": {},
   "source": [
    "Question1. Create a function that takes three arguments a, b, c and returns the sum of the\n",
    "numbers that are evenly divided by c from the range a, b inclusive.\n",
    "Examples\n",
    "evenly_divisible(1, 10, 20) ➞ 0\n",
    "# No number between 1 and 10 can be evenly divided by 20.\n",
    "evenly_divisible(1, 10, 2) ➞ 30\n",
    "# 2 + 4 + 6 + 8 + 10 = 30\n",
    "evenly_divisible(1, 10, 3) ➞ 18\n",
    "# 3 + 6 + 9 = 18"
   ]
  },
  {
   "cell_type": "code",
   "execution_count": 10,
   "metadata": {},
   "outputs": [
    {
     "name": "stdout",
     "output_type": "stream",
     "text": [
      "Sum of elements between 1 and 10 can be evenly divided by 2: 30\n"
     ]
    }
   ],
   "source": [
    "def evenly_div(a,b,c):\n",
    "    sum=0\n",
    "    elements=[]\n",
    "    for i in range(a,b+1):\n",
    "        if (i%c==0):\n",
    "            elements.append(i)\n",
    "    for i in elements:\n",
    "        sum=sum+i\n",
    "    return sum\n",
    "\n",
    "a=int(input())\n",
    "b=int(input())\n",
    "c=int(input())\n",
    "print(f\"Sum of elements between {a} and {b} can be evenly divided by {c}: {evenly_div(a,b,c)}\")"
   ]
  },
  {
   "cell_type": "markdown",
   "metadata": {},
   "source": [
    "Question2. Create a function that returns True if a given inequality expression is correct and\n",
    "False otherwise.\n",
    "Examples\n",
    "correct_signs(\"3 < 7 < 11\") ➞ True\n",
    "correct_signs(\"13 > 44 > 33 > 1\") ➞ False\n",
    "correct_signs(\"1 < 2 < 6 < 9 > 3\") ➞ True"
   ]
  },
  {
   "cell_type": "code",
   "execution_count": 42,
   "metadata": {},
   "outputs": [
    {
     "name": "stdout",
     "output_type": "stream",
     "text": [
      "The expression 13 > 44 > 33 > 1 is False\n"
     ]
    }
   ],
   "source": [
    "def correct_signs(a):\n",
    "    check=eval(a)\n",
    "    if (check):\n",
    "        return True\n",
    "    else:\n",
    "        return False\n",
    "\n",
    "a=input()\n",
    "print(f\"The expression {a} is {correct_signs(a)}\")"
   ]
  },
  {
   "cell_type": "markdown",
   "metadata": {},
   "source": [
    "Question3. Create a function that replaces all the vowels in a string with a specified character.\n",
    "Examples\n",
    "replace_vowels(\"the aardvark\", \"#\") ➞ \"th# ##rdv#rk\"\n",
    "replace_vowels(\"minnie mouse\", \"?\") ➞ \"m?nn?? m??s?\"\n",
    "replace_vowels(\"shakespeare\", \"*\") ➞ \"sh*k*sp**r*\""
   ]
  },
  {
   "cell_type": "code",
   "execution_count": 19,
   "metadata": {},
   "outputs": [
    {
     "name": "stdout",
     "output_type": "stream",
     "text": [
      "The input string \"the aardvark\" after replacing all the vowels with \"#\": th# ##rdv#rk\n"
     ]
    }
   ],
   "source": [
    "def replace_vowels(a,b):\n",
    "    for i in a:\n",
    "        if (i in ['a','e','i','o','u',\"A\",\"E\",\"I\",\"O\",\"U\"]):\n",
    "            a=a.replace(i,b)\n",
    "    return a\n",
    "\n",
    "input_string=input()\n",
    "char=input()\n",
    "print(f\"\"\"The input string \"{input_string}\" after replacing all the vowels with \"{char}\": {replace_vowels(input_string,char)}\"\"\")"
   ]
  },
  {
   "cell_type": "markdown",
   "metadata": {},
   "source": [
    "Question4. Write a function that calculates the factorial of a number recursively.\n",
    "Examples\n",
    "factorial(5) ➞ 120\n",
    "factorial(3) ➞ 6\n",
    "factorial(1) ➞ 1\n",
    "factorial(0) ➞ 1"
   ]
  },
  {
   "cell_type": "code",
   "execution_count": 31,
   "metadata": {},
   "outputs": [
    {
     "name": "stdout",
     "output_type": "stream",
     "text": [
      "The factorial of 3 is 6\n"
     ]
    }
   ],
   "source": [
    "def factorial(a):\n",
    "    if a==1 or a==0:\n",
    "        return 1\n",
    "    else:\n",
    "        return a*factorial(a-1)\n",
    "\n",
    "a=int(input())\n",
    "print(f\"The factorial of {a} is {factorial(a)}\")"
   ]
  },
  {
   "cell_type": "markdown",
   "metadata": {},
   "source": [
    "Question 5\n",
    "Hamming distance is the number of characters that differ between two strings.\n",
    "To illustrate:\n",
    "String1: \"abcbba\"\n",
    "String2: \"abcbda\"\n",
    "Hamming Distance: 1 - \"b\" vs. \"d\" is the only difference.\n",
    "Create a function that computes the hamming distance between two strings.\n",
    "Examples\n",
    "hamming_distance(\"abcde\", \"bcdef\") ➞ 5\n",
    "hamming_distance(\"abcde\", \"abcde\") ➞ 0\n",
    "hamming_distance(\"strong\", \"strung\") ➞ 1"
   ]
  },
  {
   "cell_type": "code",
   "execution_count": 40,
   "metadata": {},
   "outputs": [
    {
     "name": "stdout",
     "output_type": "stream",
     "text": [
      "The hamming distance between \"strong\" and \"strung\" is: 1\n"
     ]
    }
   ],
   "source": [
    "def hamming_distance(a,b):\n",
    "    diff=0\n",
    "    if len(a)==len(b):\n",
    "        for i in range(0,len(a)):\n",
    "            if (a[i]!=b[i]):\n",
    "                diff+=1\n",
    "        return diff\n",
    "    else:\n",
    "        diff=abs(len(a)-len(b))\n",
    "        if (len(a)>len(b)):\n",
    "            for i in range(0,len(b)):\n",
    "                if (a[i]!=b[i]):\n",
    "                    diff+=1\n",
    "            return diff\n",
    "        else:\n",
    "            for i in range(0,len(a)):\n",
    "                if (a[i]!=b[i]):\n",
    "                    diff+=1\n",
    "            return diff\n",
    "a=input()\n",
    "b=input()\n",
    "print(f\"\"\"The hamming distance between \"{a}\" and \"{b}\" is: {hamming_distance(a,b)}\"\"\")"
   ]
  }
 ],
 "metadata": {
  "kernelspec": {
   "display_name": "base",
   "language": "python",
   "name": "python3"
  },
  "language_info": {
   "codemirror_mode": {
    "name": "ipython",
    "version": 3
   },
   "file_extension": ".py",
   "mimetype": "text/x-python",
   "name": "python",
   "nbconvert_exporter": "python",
   "pygments_lexer": "ipython3",
   "version": "3.11.4"
  }
 },
 "nbformat": 4,
 "nbformat_minor": 2
}
