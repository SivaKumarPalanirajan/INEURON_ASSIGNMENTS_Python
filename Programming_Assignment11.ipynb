{
 "cells": [
  {
   "cell_type": "markdown",
   "metadata": {},
   "source": [
    "SIVAKUMAR PALANIRAJAN"
   ]
  },
  {
   "cell_type": "markdown",
   "metadata": {},
   "source": [
    "1. Write a Python program to find words which are greater than given length k?"
   ]
  },
  {
   "cell_type": "code",
   "execution_count": 2,
   "metadata": {},
   "outputs": [
    {
     "name": "stdout",
     "output_type": "stream",
     "text": [
      "Words with length greater than k=3:\n",
      "Hello\n",
      "Thank you\n"
     ]
    }
   ],
   "source": [
    "words=[\"Hey\",\"Hello\",\"Bye\",\"Thank you\"]\n",
    "k=3\n",
    "n=len(words)\n",
    "print(f\"Words with length greater than k={k}:\")\n",
    "for i in range(0,n):\n",
    "    if (len(words[i])>k):\n",
    "        print(words[i])"
   ]
  },
  {
   "cell_type": "markdown",
   "metadata": {},
   "source": [
    "2. Write a Python program for removing i-th character from a string?"
   ]
  },
  {
   "cell_type": "code",
   "execution_count": 16,
   "metadata": {},
   "outputs": [
    {
     "name": "stdout",
     "output_type": "stream",
     "text": [
      "Initial String:hello\n",
      "Final String after removing the 2th character:hllo\n"
     ]
    }
   ],
   "source": [
    "a=input()\n",
    "n=len(a)\n",
    "i=int(input(\"Enter the index to be removed\"))\n",
    "print(f\"Initial String:{a}\")\n",
    "c=a[:i-1]\n",
    "d=a[i:]\n",
    "a=c+d\n",
    "print(f\"Final String after removing the {i}th character:{a}\")\n"
   ]
  },
  {
   "cell_type": "markdown",
   "metadata": {},
   "source": [
    "3. Write a Python program to split and join a string?"
   ]
  },
  {
   "cell_type": "code",
   "execution_count": 17,
   "metadata": {},
   "outputs": [
    {
     "name": "stdout",
     "output_type": "stream",
     "text": [
      "The string before splitting:hello there\n",
      "The string after splitting:['hello', 'there']\n",
      "The string after joining:hello there\n"
     ]
    }
   ],
   "source": [
    "a=input()\n",
    "b=a.split(\" \")\n",
    "print(f\"The string before splitting:{a}\")\n",
    "print(f\"The string after splitting:{b}\")\n",
    "c=\" \".join(b)\n",
    "print(f\"The string after joining:{c}\")\n"
   ]
  },
  {
   "cell_type": "markdown",
   "metadata": {},
   "source": [
    "4. Write a Python to check if a given string is binary string or not?"
   ]
  },
  {
   "cell_type": "code",
   "execution_count": 33,
   "metadata": {},
   "outputs": [
    {
     "name": "stdout",
     "output_type": "stream",
     "text": [
      "10101 is a binary string\n"
     ]
    }
   ],
   "source": [
    "a=input()\n",
    "k=0\n",
    "for i in a:\n",
    "    if (i not in ['0','1']):\n",
    "        print(\"{a} is a not binary string\")\n",
    "        break\n",
    "    else:\n",
    "        k=k+1\n",
    "\n",
    "if (k==len(a)):\n",
    "    print(f\"{a} is a binary string\")"
   ]
  },
  {
   "cell_type": "markdown",
   "metadata": {},
   "source": [
    "5. Write a Python program to find uncommon words from two Strings?"
   ]
  },
  {
   "cell_type": "code",
   "execution_count": 35,
   "metadata": {},
   "outputs": [
    {
     "name": "stdout",
     "output_type": "stream",
     "text": [
      "First string:Hello there my name is\n",
      "Second string:Hello there I am\n",
      "The uncommon words are:['my', 'name', 'is', 'I', 'am']\n"
     ]
    }
   ],
   "source": [
    "a=input()\n",
    "b=input()\n",
    "print(f\"First string:{a}\")\n",
    "print(f\"Second string:{b}\")\n",
    "a=a.split(\" \")\n",
    "b=b.split(\" \")\n",
    "x=[]\n",
    "for i in a:\n",
    "    if i not in b:\n",
    "        x.append(i)\n",
    "for j in b:\n",
    "    if j not in a:\n",
    "        x.append(j)\n",
    "print(f\"The uncommon words are:{x}\")\n"
   ]
  },
  {
   "cell_type": "markdown",
   "metadata": {},
   "source": [
    "6. Write a Python to find all duplicate characters in string?"
   ]
  },
  {
   "cell_type": "code",
   "execution_count": 37,
   "metadata": {},
   "outputs": [
    {
     "name": "stdout",
     "output_type": "stream",
     "text": [
      "The string is:hello there\n",
      "The duplicate characters are:\n",
      "h\n",
      "e\n",
      "l\n"
     ]
    }
   ],
   "source": [
    "a=input()\n",
    "print(f\"The string is:{a}\")\n",
    "print(\"The duplicate characters are:\")\n",
    "s=[]\n",
    "for i in a:\n",
    "    k=0\n",
    "    if (a.count(i)>1):\n",
    "        if (i in s):\n",
    "            break\n",
    "        else:\n",
    "            s.append(i)\n",
    "            print(i)"
   ]
  },
  {
   "cell_type": "markdown",
   "metadata": {},
   "source": [
    "7. Write a Python Program to check if a string contains any special character?"
   ]
  },
  {
   "cell_type": "code",
   "execution_count": 49,
   "metadata": {},
   "outputs": [
    {
     "name": "stdout",
     "output_type": "stream",
     "text": [
      "w+?>w< has special characters\n"
     ]
    }
   ],
   "source": [
    "a=input()\n",
    "def check(i):\n",
    "    if (i.isalpha() or i.isnumeric() or i==' '):\n",
    "        return True\n",
    "    else:\n",
    "        return False\n",
    "for i in a:\n",
    "    if (check(i)):\n",
    "        k=k+1\n",
    "    else:\n",
    "        print(f\"{a} has special characters\")\n",
    "        break\n"
   ]
  }
 ],
 "metadata": {
  "kernelspec": {
   "display_name": "base",
   "language": "python",
   "name": "python3"
  },
  "language_info": {
   "codemirror_mode": {
    "name": "ipython",
    "version": 3
   },
   "file_extension": ".py",
   "mimetype": "text/x-python",
   "name": "python",
   "nbconvert_exporter": "python",
   "pygments_lexer": "ipython3",
   "version": "3.11.4"
  }
 },
 "nbformat": 4,
 "nbformat_minor": 2
}
